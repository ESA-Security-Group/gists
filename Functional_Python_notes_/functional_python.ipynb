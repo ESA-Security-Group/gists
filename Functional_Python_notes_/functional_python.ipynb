{
 "cells": [
  {
   "cell_type": "code",
   "execution_count": 3,
   "metadata": {
    "collapsed": false
   },
   "outputs": [
    {
     "name": "stdout",
     "output_type": "stream",
     "text": [
      "4\n",
      "4\n",
      "3\n",
      "4 4 3\n"
     ]
    }
   ],
   "source": [
    "names = [\"Mary\", \"Isla\", \"Sam\"]\n",
    "\n",
    "## Non-functional:\n",
    "for name in names:\n",
    "    print(len(name))\n",
    "\n",
    "## Functional:\n",
    "name_lengths = map(len, names)\n",
    "\n",
    "print(*name_lengths)\n",
    "## => [4, 4, 3]"
   ]
  },
  {
   "cell_type": "code",
   "execution_count": null,
   "metadata": {
    "collapsed": true
   },
   "outputs": [],
   "source": []
  },
  {
   "cell_type": "code",
   "execution_count": 1,
   "metadata": {
    "collapsed": false,
    "scrolled": true
   },
   "outputs": [
    {
     "name": "stdout",
     "output_type": "stream",
     "text": [
      "<map object at 0x10f9f7898>\n",
      "-287003475457657717 2212046755992618995 21089784447707364\n"
     ]
    }
   ],
   "source": [
    "names = ['Mary', 'Isla', 'Sam']\n",
    "\n",
    "## Non-functional:\n",
    "for i in range(len(names)):\n",
    "    names[i] = hash(names[i])\n",
    "\n",
    "## Functional:\n",
    "secret_names = map(\n",
    "    hash,\n",
    "    names\n",
    ")\n",
    "\n",
    "print(secret_names)\n",
    "## => <map object at 0x7f11919c8d30>\n",
    "\n",
    "print(*secret_names)\n",
    "## => 497302249450926328 952770095352895986 1358908768816951524\n"
   ]
  }
 ],
 "metadata": {
  "kernelspec": {
   "display_name": "Python 3",
   "language": "python",
   "name": "python3"
  },
  "language_info": {
   "codemirror_mode": {
    "name": "ipython",
    "version": 3
   },
   "file_extension": ".py",
   "mimetype": "text/x-python",
   "name": "python",
   "nbconvert_exporter": "python",
   "pygments_lexer": "ipython3",
   "version": "3.6.0"
  }
 },
 "nbformat": 4,
 "nbformat_minor": 2
}
